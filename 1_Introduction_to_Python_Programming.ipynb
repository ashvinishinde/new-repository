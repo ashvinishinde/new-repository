{
  "nbformat": 4,
  "nbformat_minor": 0,
  "metadata": {
    "colab": {
      "provenance": [],
      "authorship_tag": "ABX9TyO+zyX6jmUz5rYwWmW1kd1T",
      "include_colab_link": true
    },
    "kernelspec": {
      "name": "python3",
      "display_name": "Python 3"
    },
    "language_info": {
      "name": "python"
    }
  },
  "cells": [
    {
      "cell_type": "markdown",
      "metadata": {
        "id": "view-in-github",
        "colab_type": "text"
      },
      "source": [
        "<a href=\"https://colab.research.google.com/github/ashvinishinde/new-repository/blob/main/1_Introduction_to_Python_Programming.ipynb\" target=\"_parent\"><img src=\"https://colab.research.google.com/assets/colab-badge.svg\" alt=\"Open In Colab\"/></a>"
      ]
    },
    {
      "cell_type": "markdown",
      "source": [
        "## Google Colab:\n",
        "Cloud based python coding environment by Google:\n",
        "\n",
        "Data Manipulation\n",
        "\n",
        "Data Visualization\n",
        "\n",
        "ML modelling\n",
        "\n",
        "Deployment.\n",
        "\n",
        "Run this cell = Shift + Enter bold text\n",
        "\n",
        "\n"
      ],
      "metadata": {
        "id": "lCEJ5S5Z_j9g"
      }
    },
    {
      "cell_type": "code",
      "source": [
        "print(\"Hello world\")\n"
      ],
      "metadata": {
        "colab": {
          "base_uri": "https://localhost:8080/"
        },
        "id": "CBUgl8kdAUqQ",
        "outputId": "c029ceed-82e9-4126-fb82-5f3e29448fbd"
      },
      "execution_count": 1,
      "outputs": [
        {
          "output_type": "stream",
          "name": "stdout",
          "text": [
            "Hello world\n"
          ]
        }
      ]
    },
    {
      "cell_type": "code",
      "source": [
        "a=4 # defining  variable \"a\" and assigning the value 4\n",
        "b=2 # defining  variable \"b\" and assigning the value 2\n",
        "a*b # Multiply"
      ],
      "metadata": {
        "colab": {
          "base_uri": "https://localhost:8080/"
        },
        "id": "s8BsKKLXAq8X",
        "outputId": "c875db9c-fc85-46ff-9b67-2d35ca42c62b"
      },
      "execution_count": 2,
      "outputs": [
        {
          "output_type": "execute_result",
          "data": {
            "text/plain": [
              "8"
            ]
          },
          "metadata": {},
          "execution_count": 2
        }
      ]
    },
    {
      "cell_type": "code",
      "source": [
        "a=6 #defing variable and assigning the value 4\n",
        "b=10 # defining the variable nad assigning the value 10\n",
        "a+b #addition"
      ],
      "metadata": {
        "colab": {
          "base_uri": "https://localhost:8080/"
        },
        "id": "YFKRm1OIAvk8",
        "outputId": "26439dbf-e92e-453d-c519-3d4b0a7e2dfc"
      },
      "execution_count": 3,
      "outputs": [
        {
          "output_type": "execute_result",
          "data": {
            "text/plain": [
              "16"
            ]
          },
          "metadata": {},
          "execution_count": 3
        }
      ]
    },
    {
      "cell_type": "code",
      "execution_count": 5,
      "metadata": {
        "colab": {
          "base_uri": "https://localhost:8080/"
        },
        "id": "7AZ6_i7d8lEG",
        "outputId": "78443f5d-16a3-42b6-f723-0f144667818e"
      },
      "outputs": [
        {
          "output_type": "execute_result",
          "data": {
            "text/plain": [
              "4"
            ]
          },
          "metadata": {},
          "execution_count": 5
        }
      ],
      "source": [
        "a=10 #defining variable as a and assigning value 10\n",
        "b=6\n",
        "a-b # substraction"
      ]
    },
    {
      "cell_type": "code",
      "source": [
        "a=2\n",
        "b=10\n",
        "a*b"
      ],
      "metadata": {
        "colab": {
          "base_uri": "https://localhost:8080/"
        },
        "id": "s7EibkIoC_hK",
        "outputId": "ee13b1be-aa65-40f5-8f4c-fc69f70df229"
      },
      "execution_count": 7,
      "outputs": [
        {
          "output_type": "execute_result",
          "data": {
            "text/plain": [
              "20"
            ]
          },
          "metadata": {},
          "execution_count": 7
        }
      ]
    },
    {
      "cell_type": "code",
      "source": [
        "a=2\n",
        "b=2\n",
        "a/b #division"
      ],
      "metadata": {
        "colab": {
          "base_uri": "https://localhost:8080/"
        },
        "id": "4Vcp0UEyDIqv",
        "outputId": "9b4dec85-7108-405e-f45f-a0ff99303564"
      },
      "execution_count": 8,
      "outputs": [
        {
          "output_type": "execute_result",
          "data": {
            "text/plain": [
              "1.0"
            ]
          },
          "metadata": {},
          "execution_count": 8
        }
      ]
    },
    {
      "cell_type": "code",
      "source": [
        "a=6\n",
        "b=4\n",
        "a*b # multiplication"
      ],
      "metadata": {
        "colab": {
          "base_uri": "https://localhost:8080/"
        },
        "id": "cc-tyeePBjWL",
        "outputId": "9a96770c-d1f4-49f2-8135-4b569781b22b"
      },
      "execution_count": 6,
      "outputs": [
        {
          "output_type": "execute_result",
          "data": {
            "text/plain": [
              "24"
            ]
          },
          "metadata": {},
          "execution_count": 6
        }
      ]
    },
    {
      "cell_type": "markdown",
      "source": [
        "## # Exponenetial = a ** b --> a to the power b"
      ],
      "metadata": {
        "id": "99e25Vg-ES2n"
      }
    },
    {
      "cell_type": "code",
      "source": [
        "a=2\n",
        "b=4\n",
        "a**b #2*2*2*2 = 16"
      ],
      "metadata": {
        "colab": {
          "base_uri": "https://localhost:8080/"
        },
        "id": "E7bg_ch9DiRM",
        "outputId": "e642dbe4-1edc-4097-b93a-59e1b8eeab62"
      },
      "execution_count": 10,
      "outputs": [
        {
          "output_type": "execute_result",
          "data": {
            "text/plain": [
              "16"
            ]
          },
          "metadata": {},
          "execution_count": 10
        }
      ]
    },
    {
      "cell_type": "code",
      "source": [
        "# Floor division(//) = It truncates the decimal Part(remove the decemal part)\n",
        "5//2"
      ],
      "metadata": {
        "colab": {
          "base_uri": "https://localhost:8080/"
        },
        "id": "GRktLTPuEOkK",
        "outputId": "d6bad8d6-985c-42d5-94f6-d0778cdbf5a6"
      },
      "execution_count": 14,
      "outputs": [
        {
          "output_type": "execute_result",
          "data": {
            "text/plain": [
              "2"
            ]
          },
          "metadata": {},
          "execution_count": 14
        }
      ]
    },
    {
      "cell_type": "code",
      "source": [
        "5/2"
      ],
      "metadata": {
        "colab": {
          "base_uri": "https://localhost:8080/"
        },
        "id": "IlL0qnvxEeWk",
        "outputId": "b160c4e5-1819-474a-e9ab-6b773eaca53a"
      },
      "execution_count": 15,
      "outputs": [
        {
          "output_type": "execute_result",
          "data": {
            "text/plain": [
              "2.5"
            ]
          },
          "metadata": {},
          "execution_count": 15
        }
      ]
    },
    {
      "cell_type": "code",
      "source": [
        "# Why floor division? (//)\n",
        "# Beverage company (Coco) = Pack of 6\n",
        "order_size = 6323\n",
        "Number_Of_Pallet= order_size / 6\n",
        "Number_Of_Pallet"
      ],
      "metadata": {
        "colab": {
          "base_uri": "https://localhost:8080/"
        },
        "id": "FSNrQLULFnEX",
        "outputId": "f3a9d39b-9f80-4004-fd4b-5d7f59276376"
      },
      "execution_count": 19,
      "outputs": [
        {
          "output_type": "execute_result",
          "data": {
            "text/plain": [
              "1053.8333333333333"
            ]
          },
          "metadata": {},
          "execution_count": 19
        }
      ]
    },
    {
      "cell_type": "code",
      "source": [
        "# Why floor division? (//)\n",
        "# Beverage company (Coco) = Pack of 6\n",
        "order_size = 6326\n",
        "Number_Of_Pallet= order_size // 7\n",
        "Number_Of_Pallet"
      ],
      "metadata": {
        "colab": {
          "base_uri": "https://localhost:8080/"
        },
        "id": "KsqNEaULFx3k",
        "outputId": "86cd079c-83fa-4456-acda-a212563a0423"
      },
      "execution_count": 24,
      "outputs": [
        {
          "output_type": "execute_result",
          "data": {
            "text/plain": [
              "903"
            ]
          },
          "metadata": {},
          "execution_count": 24
        }
      ]
    },
    {
      "cell_type": "code",
      "source": [
        "# Convert seconds to minutues\n",
        "seconds = 399\n",
        "minutues = seconds//60\n",
        "minutues"
      ],
      "metadata": {
        "colab": {
          "base_uri": "https://localhost:8080/"
        },
        "id": "9k3F4jmaGL7P",
        "outputId": "b7320e57-dc2a-4dc1-eeae-b519058baa9a"
      },
      "execution_count": 27,
      "outputs": [
        {
          "output_type": "execute_result",
          "data": {
            "text/plain": [
              "6"
            ]
          },
          "metadata": {},
          "execution_count": 27
        }
      ]
    },
    {
      "cell_type": "markdown",
      "source": [
        "##Data Types:\n",
        "###Data Types are used to define the type of a varibale.\n",
        "###Define what type of data we are going to store in a variable.\n",
        "eg: Persons Age, Salary , Weight\n",
        "\n",
        "##Python Data Types:\n",
        "\n",
        "Numeric = int, Float, Complex\n",
        "\n",
        "int = Whole Numbers => 46, 30000, 1200Sqft\n",
        "\n",
        "Float = Fractions/ Decimal numbers => 3.14, 66.65, 156.5cm\n",
        "\n",
        "Complex = Real+Imaginary => 3+4j\n",
        "\n",
        "String = str\n",
        "\"hello world\", Person's name, Address\n",
        "\"@#$%password\"\n",
        "\n",
        "Boolean (True/False)\n",
        "Male = True"
      ],
      "metadata": {
        "id": "q_PNSuFGGmMS"
      }
    },
    {
      "cell_type": "code",
      "source": [
        "a=33  #return the datatype stored in a variable\n",
        "type(a) # data type is int"
      ],
      "metadata": {
        "colab": {
          "base_uri": "https://localhost:8080/"
        },
        "id": "Vc4aEIxXHIvK",
        "outputId": "233857d1-97f2-44cb-9292-3aad1fba3ad4"
      },
      "execution_count": 28,
      "outputs": [
        {
          "output_type": "execute_result",
          "data": {
            "text/plain": [
              "int"
            ]
          },
          "metadata": {},
          "execution_count": 28
        }
      ]
    },
    {
      "cell_type": "code",
      "source": [
        "a=2.3\n",
        "type(a) #data type is flot"
      ],
      "metadata": {
        "colab": {
          "base_uri": "https://localhost:8080/"
        },
        "id": "jcudDHIWHO3u",
        "outputId": "6115e835-c3d2-4bcd-f08b-b36f3fe8c0ec"
      },
      "execution_count": 29,
      "outputs": [
        {
          "output_type": "execute_result",
          "data": {
            "text/plain": [
              "float"
            ]
          },
          "metadata": {},
          "execution_count": 29
        }
      ]
    },
    {
      "cell_type": "code",
      "source": [
        "a='ashvini' #any kind of data in \"\" / ''\n",
        "b=\"anu\"\n",
        "type(a+b)\n",
        "\n"
      ],
      "metadata": {
        "colab": {
          "base_uri": "https://localhost:8080/"
        },
        "id": "l8u-6BixHb8w",
        "outputId": "9c1c7e35-47e0-4ff0-d045-c45541cb06bc"
      },
      "execution_count": 34,
      "outputs": [
        {
          "output_type": "execute_result",
          "data": {
            "text/plain": [
              "str"
            ]
          },
          "metadata": {},
          "execution_count": 34
        }
      ]
    },
    {
      "cell_type": "code",
      "source": [
        "#assignment operato(=)\n",
        "z=3 # I'm assigning a value 3 to the variable z\n",
        "\n",
        "x=4"
      ],
      "metadata": {
        "id": "D1_MGhQfIgde"
      },
      "execution_count": 35,
      "outputs": []
    },
    {
      "cell_type": "code",
      "source": [
        "# Comparision Operator(==)\n",
        "x==4 # I'm checking if the value of x is it equal to 4?\n"
      ],
      "metadata": {
        "colab": {
          "base_uri": "https://localhost:8080/"
        },
        "id": "dN-RXVBOIoAq",
        "outputId": "0fb7b938-c7ea-4741-f5ac-c06a00281fc4"
      },
      "execution_count": 36,
      "outputs": [
        {
          "output_type": "execute_result",
          "data": {
            "text/plain": [
              "True"
            ]
          },
          "metadata": {},
          "execution_count": 36
        }
      ]
    },
    {
      "cell_type": "code",
      "source": [
        "a=10\n",
        "a==8\n"
      ],
      "metadata": {
        "colab": {
          "base_uri": "https://localhost:8080/"
        },
        "id": "czZOEadeI3yd",
        "outputId": "8eb8ee36-a805-47b8-854e-ea0b24649fd8"
      },
      "execution_count": 41,
      "outputs": [
        {
          "output_type": "execute_result",
          "data": {
            "text/plain": [
              "False"
            ]
          },
          "metadata": {},
          "execution_count": 41
        }
      ]
    },
    {
      "cell_type": "code",
      "source": [
        "b=2+2==4\n",
        "type(b)"
      ],
      "metadata": {
        "colab": {
          "base_uri": "https://localhost:8080/"
        },
        "id": "HkgySnjbJRJm",
        "outputId": "26f9bcf7-3d4d-4945-890e-5a348d52250c"
      },
      "execution_count": 42,
      "outputs": [
        {
          "output_type": "execute_result",
          "data": {
            "text/plain": [
              "bool"
            ]
          },
          "metadata": {},
          "execution_count": 42
        }
      ]
    },
    {
      "cell_type": "markdown",
      "source": [
        "##Arthmetric Operators:\n",
        "+,-,*,/"
      ],
      "metadata": {
        "id": "aSZuu8khJpyy"
      }
    },
    {
      "cell_type": "code",
      "source": [
        "#addtion\n",
        "8+8\n"
      ],
      "metadata": {
        "colab": {
          "base_uri": "https://localhost:8080/"
        },
        "id": "xGyVESReJyA0",
        "outputId": "aa8de995-902d-4b66-871f-8574200c145b"
      },
      "execution_count": 47,
      "outputs": [
        {
          "output_type": "execute_result",
          "data": {
            "text/plain": [
              "16"
            ]
          },
          "metadata": {},
          "execution_count": 47
        }
      ]
    },
    {
      "cell_type": "code",
      "source": [
        "# substraction\n",
        "10-6"
      ],
      "metadata": {
        "colab": {
          "base_uri": "https://localhost:8080/"
        },
        "id": "QeSDHRQAJ5MQ",
        "outputId": "dce57931-5cb3-494f-8f57-a28bdabb9907"
      },
      "execution_count": 48,
      "outputs": [
        {
          "output_type": "execute_result",
          "data": {
            "text/plain": [
              "4"
            ]
          },
          "metadata": {},
          "execution_count": 48
        }
      ]
    },
    {
      "cell_type": "code",
      "source": [
        "# multiplication\n",
        "2*2"
      ],
      "metadata": {
        "colab": {
          "base_uri": "https://localhost:8080/"
        },
        "id": "_TtACacoKPqn",
        "outputId": "4f107d2a-1f67-41c3-8d5a-fec1c716ac5d"
      },
      "execution_count": 49,
      "outputs": [
        {
          "output_type": "execute_result",
          "data": {
            "text/plain": [
              "4"
            ]
          },
          "metadata": {},
          "execution_count": 49
        }
      ]
    },
    {
      "cell_type": "code",
      "source": [
        "# division\n",
        "2/2"
      ],
      "metadata": {
        "colab": {
          "base_uri": "https://localhost:8080/"
        },
        "id": "95aq95l8KUFP",
        "outputId": "73eae502-6d97-4ac4-fb19-06811dd2e323"
      },
      "execution_count": 50,
      "outputs": [
        {
          "output_type": "execute_result",
          "data": {
            "text/plain": [
              "1.0"
            ]
          },
          "metadata": {},
          "execution_count": 50
        }
      ]
    },
    {
      "cell_type": "code",
      "source": [
        "# flore division (//) remove decimal part\n",
        "2//2"
      ],
      "metadata": {
        "colab": {
          "base_uri": "https://localhost:8080/"
        },
        "id": "91Bi746mKm-u",
        "outputId": "7bb7ac2a-e8f3-4300-e8b0-49261b418d38"
      },
      "execution_count": 51,
      "outputs": [
        {
          "output_type": "execute_result",
          "data": {
            "text/plain": [
              "1"
            ]
          },
          "metadata": {},
          "execution_count": 51
        }
      ]
    },
    {
      "cell_type": "code",
      "source": [
        "#  Exponenetial = a ** b --> a to the power b\n",
        "2**3 # 2*2*2=8"
      ],
      "metadata": {
        "colab": {
          "base_uri": "https://localhost:8080/"
        },
        "id": "3Et-DgxBKwUr",
        "outputId": "4280798a-cf71-4173-b870-82dd47e601e3"
      },
      "execution_count": 53,
      "outputs": [
        {
          "output_type": "execute_result",
          "data": {
            "text/plain": [
              "8"
            ]
          },
          "metadata": {},
          "execution_count": 53
        }
      ]
    },
    {
      "cell_type": "markdown",
      "source": [
        "## Order of Execution of opearators\n",
        "\n",
        "# PEMDAS Rule:\n",
        "\n",
        "### Parenthesis ( ), Exponents, Division, Multiplication, Add, Sub"
      ],
      "metadata": {
        "id": "Bo0LZkLALoJI"
      }
    },
    {
      "cell_type": "code",
      "source": [
        "5+(2*3)** 2- 4/2\n",
        "# Paren->Mul, expo, Div, add, sub"
      ],
      "metadata": {
        "colab": {
          "base_uri": "https://localhost:8080/"
        },
        "id": "T9ObkJNBMXJi",
        "outputId": "e3a61f89-293a-46c7-819b-168beda6b1af"
      },
      "execution_count": 55,
      "outputs": [
        {
          "output_type": "execute_result",
          "data": {
            "text/plain": [
              "39.0"
            ]
          },
          "metadata": {},
          "execution_count": 55
        }
      ]
    },
    {
      "cell_type": "code",
      "source": [
        "#int+decimal = Decimal\n",
        "2+2.0"
      ],
      "metadata": {
        "colab": {
          "base_uri": "https://localhost:8080/"
        },
        "id": "Buqx2XqMMtiD",
        "outputId": "10ae5c42-1a00-4014-f92c-cc287a058be2"
      },
      "execution_count": 56,
      "outputs": [
        {
          "output_type": "execute_result",
          "data": {
            "text/plain": [
              "4.0"
            ]
          },
          "metadata": {},
          "execution_count": 56
        }
      ]
    },
    {
      "cell_type": "code",
      "source": [
        "3+2*4 #MD"
      ],
      "metadata": {
        "colab": {
          "base_uri": "https://localhost:8080/"
        },
        "id": "U4xWPgwfNAo3",
        "outputId": "f8114aac-62f8-40d7-f47d-a76031ecaa1c"
      },
      "execution_count": 57,
      "outputs": [
        {
          "output_type": "execute_result",
          "data": {
            "text/plain": [
              "11"
            ]
          },
          "metadata": {},
          "execution_count": 57
        }
      ]
    },
    {
      "cell_type": "code",
      "source": [
        "4-3*6"
      ],
      "metadata": {
        "colab": {
          "base_uri": "https://localhost:8080/"
        },
        "id": "4QMfSpYwNC8H",
        "outputId": "acbe96b9-b806-4e62-93c4-172fa28d09aa"
      },
      "execution_count": 58,
      "outputs": [
        {
          "output_type": "execute_result",
          "data": {
            "text/plain": [
              "-14"
            ]
          },
          "metadata": {},
          "execution_count": 58
        }
      ]
    },
    {
      "cell_type": "code",
      "source": [
        "(3+2)*4"
      ],
      "metadata": {
        "colab": {
          "base_uri": "https://localhost:8080/"
        },
        "id": "qApXBOTONQ2f",
        "outputId": "761ae04e-f64a-4be6-b178-7cecc1c1f6da"
      },
      "execution_count": 59,
      "outputs": [
        {
          "output_type": "execute_result",
          "data": {
            "text/plain": [
              "20"
            ]
          },
          "metadata": {},
          "execution_count": 59
        }
      ]
    },
    {
      "cell_type": "code",
      "source": [
        "(2*2)-4"
      ],
      "metadata": {
        "colab": {
          "base_uri": "https://localhost:8080/"
        },
        "id": "8V4XaOfiNZJI",
        "outputId": "96f8e7a8-30a2-4228-e722-0736125d6957"
      },
      "execution_count": 60,
      "outputs": [
        {
          "output_type": "execute_result",
          "data": {
            "text/plain": [
              "0"
            ]
          },
          "metadata": {},
          "execution_count": 60
        }
      ]
    },
    {
      "cell_type": "markdown",
      "source": [
        "##Comments\n",
        "\n",
        "used to increase the readability of the code."
      ],
      "metadata": {
        "id": "Yk6K4sEiNwOg"
      }
    },
    {
      "cell_type": "code",
      "source": [
        "print(\"hello everyone\") #This is a simgle line comment"
      ],
      "metadata": {
        "colab": {
          "base_uri": "https://localhost:8080/"
        },
        "id": "R0rPEVs4Nh4v",
        "outputId": "67c88fc3-3260-4f22-8998-4d678348baad"
      },
      "execution_count": 61,
      "outputs": [
        {
          "output_type": "stream",
          "name": "stdout",
          "text": [
            "hello everyone\n"
          ]
        }
      ]
    },
    {
      "cell_type": "code",
      "source": [
        "''' This is\n",
        "multiline\n",
        "comment '''"
      ],
      "metadata": {
        "colab": {
          "base_uri": "https://localhost:8080/",
          "height": 35
        },
        "id": "tE-VYAacN4KO",
        "outputId": "827782cb-cb02-4f42-b150-1eed64420eec"
      },
      "execution_count": 62,
      "outputs": [
        {
          "output_type": "execute_result",
          "data": {
            "text/plain": [
              "' This is\\nmultiline\\ncomment '"
            ],
            "application/vnd.google.colaboratory.intrinsic+json": {
              "type": "string"
            }
          },
          "metadata": {},
          "execution_count": 62
        }
      ]
    },
    {
      "cell_type": "code",
      "source": [
        "''' Hello World aaaaaa '''"
      ],
      "metadata": {
        "colab": {
          "base_uri": "https://localhost:8080/",
          "height": 35
        },
        "id": "zt7UIBDnN9LV",
        "outputId": "f6c77714-0e99-4cc2-ea45-8fcb81058172"
      },
      "execution_count": 64,
      "outputs": [
        {
          "output_type": "execute_result",
          "data": {
            "text/plain": [
              "' Hello World aaaaaa '"
            ],
            "application/vnd.google.colaboratory.intrinsic+json": {
              "type": "string"
            }
          },
          "metadata": {},
          "execution_count": 64
        }
      ]
    },
    {
      "cell_type": "markdown",
      "source": [
        "## Activity:Cricket Match:\n",
        "wins: 3 points\n",
        "\n",
        "draws: 1 point\n",
        "\n",
        "losses: 0 points\n",
        "\n",
        "Team London has played 9 matches in this tournament. They won 6 matches, lost 2 matches and drew 1."
      ],
      "metadata": {
        "id": "JHAN8m9cOp4c"
      }
    },
    {
      "cell_type": "code",
      "source": [
        "(6*3)+(2*0)+(1*1)"
      ],
      "metadata": {
        "colab": {
          "base_uri": "https://localhost:8080/"
        },
        "id": "deDSIVEyOvJz",
        "outputId": "d0505931-50c9-4dd0-ae50-4144d00d718a"
      },
      "execution_count": 65,
      "outputs": [
        {
          "output_type": "execute_result",
          "data": {
            "text/plain": [
              "19"
            ]
          },
          "metadata": {},
          "execution_count": 65
        }
      ]
    },
    {
      "cell_type": "markdown",
      "source": [
        "## Activity:Cricket Match:\n",
        "wins: 3 points\n",
        "\n",
        "draws: 2 point\n",
        "\n",
        "losses: 0 points\n",
        "\n",
        "Team London has played 15 matches in this tournament. They won 10 matches, lost 3 matches and drew 2"
      ],
      "metadata": {
        "id": "XWtH3zu4PBCy"
      }
    },
    {
      "cell_type": "code",
      "source": [
        "(10*3)+(3*0)+(2*2)"
      ],
      "metadata": {
        "colab": {
          "base_uri": "https://localhost:8080/"
        },
        "id": "l64tjEwJO9ug",
        "outputId": "7851e197-bbf6-40b6-a8d6-14b15859de28"
      },
      "execution_count": 66,
      "outputs": [
        {
          "output_type": "execute_result",
          "data": {
            "text/plain": [
              "34"
            ]
          },
          "metadata": {},
          "execution_count": 66
        }
      ]
    },
    {
      "cell_type": "markdown",
      "source": [
        "## Rules for naming a variable:\n",
        "\n",
        "Variable names is case sensitive -> age=23 and Age=24\n",
        "\n",
        "Variable names can only start with and underscore(_) or with a character\n",
        "\n",
        "You cannot use keywords for naming a variable. (def, True, false,And, rreturn)"
      ],
      "metadata": {
        "id": "sZNNcJ0TR_2X"
      }
    },
    {
      "cell_type": "code",
      "source": [
        "_age=29\n",
        "last_name = 'shinde'\n",
        "print(last_name)\n",
        "\n",
        "print(_age)\n",
        "_age==29"
      ],
      "metadata": {
        "colab": {
          "base_uri": "https://localhost:8080/"
        },
        "id": "-u6apKt9SMKp",
        "outputId": "c1958abd-7ec0-4e3f-8bf7-b352b8636b59"
      },
      "execution_count": 74,
      "outputs": [
        {
          "output_type": "stream",
          "name": "stdout",
          "text": [
            "shinde\n",
            "29\n"
          ]
        },
        {
          "output_type": "execute_result",
          "data": {
            "text/plain": [
              "True"
            ]
          },
          "metadata": {},
          "execution_count": 74
        }
      ]
    },
    {
      "cell_type": "markdown",
      "source": [
        "# Boolean data type:\n",
        "Two Values = True / False\n",
        "\n",
        "Comaparisions, Decision Making"
      ],
      "metadata": {
        "id": "6kNV5n7MTYOy"
      }
    },
    {
      "cell_type": "code",
      "source": [
        "name='akash'\n",
        "name=='anu'\n",
        "#type(name)\n",
        "print(name)"
      ],
      "metadata": {
        "colab": {
          "base_uri": "https://localhost:8080/"
        },
        "id": "_0redldrTcsJ",
        "outputId": "3e747b34-6b9e-4400-ea00-eb6183cba71a"
      },
      "execution_count": 79,
      "outputs": [
        {
          "output_type": "stream",
          "name": "stdout",
          "text": [
            "akash\n"
          ]
        }
      ]
    },
    {
      "cell_type": "code",
      "source": [
        "a=6\n",
        "b=6\n",
        "a==b\n"
      ],
      "metadata": {
        "colab": {
          "base_uri": "https://localhost:8080/"
        },
        "id": "bQlo6HZeTrSX",
        "outputId": "49e8cc17-8b23-4218-eed8-adfdd14e889c"
      },
      "execution_count": 77,
      "outputs": [
        {
          "output_type": "execute_result",
          "data": {
            "text/plain": [
              "True"
            ]
          },
          "metadata": {},
          "execution_count": 77
        }
      ]
    },
    {
      "cell_type": "code",
      "source": [
        "6>5"
      ],
      "metadata": {
        "colab": {
          "base_uri": "https://localhost:8080/"
        },
        "id": "bvhGShxjT5Ff",
        "outputId": "4350cc58-45eb-4537-f7af-9d76243de67c"
      },
      "execution_count": 80,
      "outputs": [
        {
          "output_type": "execute_result",
          "data": {
            "text/plain": [
              "True"
            ]
          },
          "metadata": {},
          "execution_count": 80
        }
      ]
    },
    {
      "cell_type": "code",
      "source": [
        "6>13"
      ],
      "metadata": {
        "colab": {
          "base_uri": "https://localhost:8080/"
        },
        "id": "zGUOJlvSUPfK",
        "outputId": "7aadcd6e-15a5-41c9-86f1-a52a1105c13d"
      },
      "execution_count": 84,
      "outputs": [
        {
          "output_type": "execute_result",
          "data": {
            "text/plain": [
              "False"
            ]
          },
          "metadata": {},
          "execution_count": 84
        }
      ]
    },
    {
      "cell_type": "code",
      "source": [
        "6<8"
      ],
      "metadata": {
        "colab": {
          "base_uri": "https://localhost:8080/"
        },
        "id": "cfPAe-6OUZcm",
        "outputId": "5d3c9822-2919-4aa7-f9ff-e93bae9f4543"
      },
      "execution_count": 90,
      "outputs": [
        {
          "output_type": "execute_result",
          "data": {
            "text/plain": [
              "True"
            ]
          },
          "metadata": {},
          "execution_count": 90
        }
      ]
    },
    {
      "cell_type": "code",
      "source": [
        "8<7"
      ],
      "metadata": {
        "colab": {
          "base_uri": "https://localhost:8080/"
        },
        "id": "aZ49C7h-UlJ0",
        "outputId": "17f6334c-b5fd-4238-b9ea-2e6e4e0ad388"
      },
      "execution_count": 91,
      "outputs": [
        {
          "output_type": "execute_result",
          "data": {
            "text/plain": [
              "False"
            ]
          },
          "metadata": {},
          "execution_count": 91
        }
      ]
    },
    {
      "cell_type": "code",
      "source": [
        "6!=6"
      ],
      "metadata": {
        "colab": {
          "base_uri": "https://localhost:8080/"
        },
        "id": "eRYhd62JUpRZ",
        "outputId": "8faa1801-4b14-408c-b6ec-632fb85e6378"
      },
      "execution_count": 92,
      "outputs": [
        {
          "output_type": "execute_result",
          "data": {
            "text/plain": [
              "False"
            ]
          },
          "metadata": {},
          "execution_count": 92
        }
      ]
    },
    {
      "cell_type": "code",
      "source": [
        "6 != 5 #Is 6 not equal to 6"
      ],
      "metadata": {
        "colab": {
          "base_uri": "https://localhost:8080/"
        },
        "id": "g_FJ4lCVU1f5",
        "outputId": "705dce14-b38f-4bb6-bc75-4a5129971ab2"
      },
      "execution_count": 94,
      "outputs": [
        {
          "output_type": "execute_result",
          "data": {
            "text/plain": [
              "True"
            ]
          },
          "metadata": {},
          "execution_count": 94
        }
      ]
    },
    {
      "cell_type": "code",
      "source": [
        "# Not equal to (!=)\n",
        "5 != 5"
      ],
      "metadata": {
        "colab": {
          "base_uri": "https://localhost:8080/"
        },
        "id": "jpKTvyjAU4I6",
        "outputId": "f6408a17-6f35-4e73-aa13-58d112b58030"
      },
      "execution_count": 95,
      "outputs": [
        {
          "output_type": "execute_result",
          "data": {
            "text/plain": [
              "False"
            ]
          },
          "metadata": {},
          "execution_count": 95
        }
      ]
    },
    {
      "cell_type": "code",
      "source": [
        "3+2 != 4+2"
      ],
      "metadata": {
        "colab": {
          "base_uri": "https://localhost:8080/"
        },
        "id": "ks38pFJFVZ_b",
        "outputId": "97b7d438-af91-49a4-e2ec-86448792e73f"
      },
      "execution_count": 96,
      "outputs": [
        {
          "output_type": "execute_result",
          "data": {
            "text/plain": [
              "True"
            ]
          },
          "metadata": {},
          "execution_count": 96
        }
      ]
    },
    {
      "cell_type": "code",
      "source": [
        "# a=6 -> Im assign value 6 to th variable a\n",
        "# a==6 -> I'm checking if the content of a is it equal to 6??"
      ],
      "metadata": {
        "id": "i27n3JuAVty4"
      },
      "execution_count": null,
      "outputs": []
    },
    {
      "cell_type": "markdown",
      "source": [
        "## Modulo Operator(%):\n",
        "Returns Remainder"
      ],
      "metadata": {
        "id": "omD0ruTEWAT3"
      }
    },
    {
      "cell_type": "code",
      "source": [
        "9//4 # Floor division operator is returning => Quotient"
      ],
      "metadata": {
        "colab": {
          "base_uri": "https://localhost:8080/"
        },
        "id": "sLmg7XCxWMFb",
        "outputId": "317cefbf-cb25-4a77-b391-151709059bc1"
      },
      "execution_count": 97,
      "outputs": [
        {
          "output_type": "execute_result",
          "data": {
            "text/plain": [
              "2"
            ]
          },
          "metadata": {},
          "execution_count": 97
        }
      ]
    },
    {
      "cell_type": "code",
      "source": [
        "9 % 4 # Modulo Operator is returning Remainder"
      ],
      "metadata": {
        "colab": {
          "base_uri": "https://localhost:8080/"
        },
        "id": "dY_hKLjFWOVu",
        "outputId": "fbf834d5-9669-49e1-90b2-5e001de37033"
      },
      "execution_count": 98,
      "outputs": [
        {
          "output_type": "execute_result",
          "data": {
            "text/plain": [
              "1"
            ]
          },
          "metadata": {},
          "execution_count": 98
        }
      ]
    },
    {
      "cell_type": "code",
      "source": [
        "# Check if a number is even or odd\n",
        "num = 23\n",
        "''' If a number is divided by 2, if the remainder =1 then\n",
        "it's odd else even'''"
      ],
      "metadata": {
        "id": "ZSgPX2uIWe4s"
      },
      "execution_count": null,
      "outputs": []
    },
    {
      "cell_type": "code",
      "source": [
        "23%2"
      ],
      "metadata": {
        "colab": {
          "base_uri": "https://localhost:8080/"
        },
        "id": "LZL8UzFKWgiV",
        "outputId": "ff3411ba-d85f-4393-aac9-73d54ef3f025"
      },
      "execution_count": 99,
      "outputs": [
        {
          "output_type": "execute_result",
          "data": {
            "text/plain": [
              "1"
            ]
          },
          "metadata": {},
          "execution_count": 99
        }
      ]
    },
    {
      "cell_type": "code",
      "source": [
        "24 % 2"
      ],
      "metadata": {
        "colab": {
          "base_uri": "https://localhost:8080/"
        },
        "id": "To5ubUnwWl--",
        "outputId": "26aaa166-a0da-4473-d179-e3e67329a817"
      },
      "execution_count": 101,
      "outputs": [
        {
          "output_type": "execute_result",
          "data": {
            "text/plain": [
              "0"
            ]
          },
          "metadata": {},
          "execution_count": 101
        }
      ]
    },
    {
      "cell_type": "code",
      "source": [
        "35 % 2"
      ],
      "metadata": {
        "colab": {
          "base_uri": "https://localhost:8080/"
        },
        "id": "6QS77VwfWysr",
        "outputId": "9376f474-6a27-441c-bdf9-b9fd99a6c5cf"
      },
      "execution_count": 103,
      "outputs": [
        {
          "output_type": "execute_result",
          "data": {
            "text/plain": [
              "1"
            ]
          },
          "metadata": {},
          "execution_count": 103
        }
      ]
    },
    {
      "cell_type": "code",
      "source": [
        "18%2"
      ],
      "metadata": {
        "colab": {
          "base_uri": "https://localhost:8080/"
        },
        "id": "-xYX-XdsXIlT",
        "outputId": "bb277bca-0ab1-49cb-fc85-bb34aeaf5adf"
      },
      "execution_count": 104,
      "outputs": [
        {
          "output_type": "execute_result",
          "data": {
            "text/plain": [
              "0"
            ]
          },
          "metadata": {},
          "execution_count": 104
        }
      ]
    },
    {
      "cell_type": "code",
      "source": [
        "Math_marks=66\n",
        "total_marks=80\n",
        "percentage = Math_marks/total_marks*100\n",
        "percentage"
      ],
      "metadata": {
        "colab": {
          "base_uri": "https://localhost:8080/"
        },
        "id": "vlHAf8lzXSVO",
        "outputId": "18dbdf80-cfdf-483a-bfcb-133c63d8a573"
      },
      "execution_count": 105,
      "outputs": [
        {
          "output_type": "execute_result",
          "data": {
            "text/plain": [
              "82.5"
            ]
          },
          "metadata": {},
          "execution_count": 105
        }
      ]
    },
    {
      "cell_type": "code",
      "source": [
        "Math_mark=50\n",
        "Total_mark=80\n",
        "percentage = Math_marks/total_marks*100\n",
        "percentage"
      ],
      "metadata": {
        "colab": {
          "base_uri": "https://localhost:8080/"
        },
        "id": "Vi-RdslcXbNL",
        "outputId": "0d144764-1c75-4d70-d2d6-561e33f17434"
      },
      "execution_count": 116,
      "outputs": [
        {
          "output_type": "execute_result",
          "data": {
            "text/plain": [
              "82.5"
            ]
          },
          "metadata": {},
          "execution_count": 116
        }
      ]
    }
  ]
}